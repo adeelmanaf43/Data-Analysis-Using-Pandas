{
 "cells": [
  {
   "cell_type": "code",
   "execution_count": 1,
   "id": "79a3c903",
   "metadata": {},
   "outputs": [
    {
     "data": {
      "text/html": [
       "<div>\n",
       "<style scoped>\n",
       "    .dataframe tbody tr th:only-of-type {\n",
       "        vertical-align: middle;\n",
       "    }\n",
       "\n",
       "    .dataframe tbody tr th {\n",
       "        vertical-align: top;\n",
       "    }\n",
       "\n",
       "    .dataframe thead th {\n",
       "        text-align: right;\n",
       "    }\n",
       "</style>\n",
       "<table border=\"1\" class=\"dataframe\">\n",
       "  <thead>\n",
       "    <tr style=\"text-align: right;\">\n",
       "      <th></th>\n",
       "      <th>Title</th>\n",
       "      <th>Artist</th>\n",
       "      <th>Nationality</th>\n",
       "      <th>BeginDate</th>\n",
       "      <th>EndDate</th>\n",
       "      <th>Gender</th>\n",
       "      <th>Date</th>\n",
       "      <th>Department</th>\n",
       "    </tr>\n",
       "  </thead>\n",
       "  <tbody>\n",
       "    <tr>\n",
       "      <th>0</th>\n",
       "      <td>Dress MacLeod from Tartan Sets</td>\n",
       "      <td>Sarah Charlesworth</td>\n",
       "      <td>(American)</td>\n",
       "      <td>(1947)</td>\n",
       "      <td>(2013)</td>\n",
       "      <td>(Female)</td>\n",
       "      <td>1986</td>\n",
       "      <td>Prints &amp; Illustrated Books</td>\n",
       "    </tr>\n",
       "    <tr>\n",
       "      <th>1</th>\n",
       "      <td>Duplicate of plate from folio 11 verso (supple...</td>\n",
       "      <td>Pablo Palazuelo</td>\n",
       "      <td>(Spanish)</td>\n",
       "      <td>(1916)</td>\n",
       "      <td>(2007)</td>\n",
       "      <td>(Male)</td>\n",
       "      <td>1978</td>\n",
       "      <td>Prints &amp; Illustrated Books</td>\n",
       "    </tr>\n",
       "    <tr>\n",
       "      <th>2</th>\n",
       "      <td>Tailpiece (page 55) from SAGESSE</td>\n",
       "      <td>Maurice Denis</td>\n",
       "      <td>(French)</td>\n",
       "      <td>(1870)</td>\n",
       "      <td>(1943)</td>\n",
       "      <td>(Male)</td>\n",
       "      <td>1889-1911</td>\n",
       "      <td>Prints &amp; Illustrated Books</td>\n",
       "    </tr>\n",
       "    <tr>\n",
       "      <th>3</th>\n",
       "      <td>Headpiece (page 129) from LIVRET DE FOLASTRIES...</td>\n",
       "      <td>Aristide Maillol</td>\n",
       "      <td>(French)</td>\n",
       "      <td>(1861)</td>\n",
       "      <td>(1944)</td>\n",
       "      <td>(Male)</td>\n",
       "      <td>1927-1940</td>\n",
       "      <td>Prints &amp; Illustrated Books</td>\n",
       "    </tr>\n",
       "    <tr>\n",
       "      <th>4</th>\n",
       "      <td>97 rue du Bac</td>\n",
       "      <td>Eugène Atget</td>\n",
       "      <td>(French)</td>\n",
       "      <td>(1857)</td>\n",
       "      <td>(1927)</td>\n",
       "      <td>(Male)</td>\n",
       "      <td>1903</td>\n",
       "      <td>Photography</td>\n",
       "    </tr>\n",
       "  </tbody>\n",
       "</table>\n",
       "</div>"
      ],
      "text/plain": [
       "                                               Title              Artist  \\\n",
       "0                     Dress MacLeod from Tartan Sets  Sarah Charlesworth   \n",
       "1  Duplicate of plate from folio 11 verso (supple...     Pablo Palazuelo   \n",
       "2                   Tailpiece (page 55) from SAGESSE       Maurice Denis   \n",
       "3  Headpiece (page 129) from LIVRET DE FOLASTRIES...    Aristide Maillol   \n",
       "4                                      97 rue du Bac        Eugène Atget   \n",
       "\n",
       "  Nationality BeginDate EndDate    Gender       Date  \\\n",
       "0  (American)    (1947)  (2013)  (Female)       1986   \n",
       "1   (Spanish)    (1916)  (2007)    (Male)       1978   \n",
       "2    (French)    (1870)  (1943)    (Male)  1889-1911   \n",
       "3    (French)    (1861)  (1944)    (Male)  1927-1940   \n",
       "4    (French)    (1857)  (1927)    (Male)       1903   \n",
       "\n",
       "                   Department  \n",
       "0  Prints & Illustrated Books  \n",
       "1  Prints & Illustrated Books  \n",
       "2  Prints & Illustrated Books  \n",
       "3  Prints & Illustrated Books  \n",
       "4                 Photography  "
      ]
     },
     "execution_count": 1,
     "metadata": {},
     "output_type": "execute_result"
    }
   ],
   "source": [
    "file = \"modern_arts.csv\"\n",
    "import pandas as pd\n",
    "arts = pd.read_csv(file)\n",
    "arts.head()"
   ]
  },
  {
   "cell_type": "code",
   "execution_count": 2,
   "id": "d1d1e4b5",
   "metadata": {},
   "outputs": [
    {
     "data": {
      "text/plain": [
       "0        (Female)\n",
       "1          (Male)\n",
       "2          (Male)\n",
       "3          (Male)\n",
       "4          (Male)\n",
       "           ...   \n",
       "16720      (Male)\n",
       "16721      (Male)\n",
       "16722      (Male)\n",
       "16723          ()\n",
       "16724      (Male)\n",
       "Name: Gender, Length: 16725, dtype: object"
      ]
     },
     "execution_count": 2,
     "metadata": {},
     "output_type": "execute_result"
    }
   ],
   "source": [
    "arts[\"Gender\"]"
   ]
  },
  {
   "cell_type": "code",
   "execution_count": 3,
   "id": "a43dc466",
   "metadata": {},
   "outputs": [
    {
     "name": "stderr",
     "output_type": "stream",
     "text": [
      "C:\\Users\\hp\\AppData\\Local\\Temp\\ipykernel_8004\\2005910182.py:1: FutureWarning: The default value of regex will change from True to False in a future version. In addition, single character regular expressions will *not* be treated as literal strings when regex=True.\n",
      "  arts[\"Gender\"].str.replace(\"(\", \"\").str.replace(\")\", \"\")\n"
     ]
    },
    {
     "data": {
      "text/plain": [
       "0        Female\n",
       "1          Male\n",
       "2          Male\n",
       "3          Male\n",
       "4          Male\n",
       "          ...  \n",
       "16720      Male\n",
       "16721      Male\n",
       "16722      Male\n",
       "16723          \n",
       "16724      Male\n",
       "Name: Gender, Length: 16725, dtype: object"
      ]
     },
     "execution_count": 3,
     "metadata": {},
     "output_type": "execute_result"
    }
   ],
   "source": [
    "arts[\"Gender\"].str.replace(\"(\", \"\").str.replace(\")\", \"\")"
   ]
  },
  {
   "cell_type": "code",
   "execution_count": 4,
   "id": "e2bd9a96",
   "metadata": {},
   "outputs": [
    {
     "data": {
      "text/html": [
       "<div>\n",
       "<style scoped>\n",
       "    .dataframe tbody tr th:only-of-type {\n",
       "        vertical-align: middle;\n",
       "    }\n",
       "\n",
       "    .dataframe tbody tr th {\n",
       "        vertical-align: top;\n",
       "    }\n",
       "\n",
       "    .dataframe thead th {\n",
       "        text-align: right;\n",
       "    }\n",
       "</style>\n",
       "<table border=\"1\" class=\"dataframe\">\n",
       "  <thead>\n",
       "    <tr style=\"text-align: right;\">\n",
       "      <th></th>\n",
       "      <th>Title</th>\n",
       "      <th>Artist</th>\n",
       "      <th>Nationality</th>\n",
       "      <th>BeginDate</th>\n",
       "      <th>EndDate</th>\n",
       "      <th>Gender</th>\n",
       "      <th>Date</th>\n",
       "      <th>Department</th>\n",
       "    </tr>\n",
       "  </thead>\n",
       "  <tbody>\n",
       "    <tr>\n",
       "      <th>0</th>\n",
       "      <td>Dress MacLeod from Tartan Sets</td>\n",
       "      <td>Sarah Charlesworth</td>\n",
       "      <td>(American)</td>\n",
       "      <td>(1947)</td>\n",
       "      <td>(2013)</td>\n",
       "      <td>(Female)</td>\n",
       "      <td>1986</td>\n",
       "      <td>Prints &amp; Illustrated Books</td>\n",
       "    </tr>\n",
       "    <tr>\n",
       "      <th>1</th>\n",
       "      <td>Duplicate of plate from folio 11 verso (supple...</td>\n",
       "      <td>Pablo Palazuelo</td>\n",
       "      <td>(Spanish)</td>\n",
       "      <td>(1916)</td>\n",
       "      <td>(2007)</td>\n",
       "      <td>(Male)</td>\n",
       "      <td>1978</td>\n",
       "      <td>Prints &amp; Illustrated Books</td>\n",
       "    </tr>\n",
       "    <tr>\n",
       "      <th>2</th>\n",
       "      <td>Tailpiece (page 55) from SAGESSE</td>\n",
       "      <td>Maurice Denis</td>\n",
       "      <td>(French)</td>\n",
       "      <td>(1870)</td>\n",
       "      <td>(1943)</td>\n",
       "      <td>(Male)</td>\n",
       "      <td>1889-1911</td>\n",
       "      <td>Prints &amp; Illustrated Books</td>\n",
       "    </tr>\n",
       "    <tr>\n",
       "      <th>3</th>\n",
       "      <td>Headpiece (page 129) from LIVRET DE FOLASTRIES...</td>\n",
       "      <td>Aristide Maillol</td>\n",
       "      <td>(French)</td>\n",
       "      <td>(1861)</td>\n",
       "      <td>(1944)</td>\n",
       "      <td>(Male)</td>\n",
       "      <td>1927-1940</td>\n",
       "      <td>Prints &amp; Illustrated Books</td>\n",
       "    </tr>\n",
       "    <tr>\n",
       "      <th>4</th>\n",
       "      <td>97 rue du Bac</td>\n",
       "      <td>Eugène Atget</td>\n",
       "      <td>(French)</td>\n",
       "      <td>(1857)</td>\n",
       "      <td>(1927)</td>\n",
       "      <td>(Male)</td>\n",
       "      <td>1903</td>\n",
       "      <td>Photography</td>\n",
       "    </tr>\n",
       "  </tbody>\n",
       "</table>\n",
       "</div>"
      ],
      "text/plain": [
       "                                               Title              Artist  \\\n",
       "0                     Dress MacLeod from Tartan Sets  Sarah Charlesworth   \n",
       "1  Duplicate of plate from folio 11 verso (supple...     Pablo Palazuelo   \n",
       "2                   Tailpiece (page 55) from SAGESSE       Maurice Denis   \n",
       "3  Headpiece (page 129) from LIVRET DE FOLASTRIES...    Aristide Maillol   \n",
       "4                                      97 rue du Bac        Eugène Atget   \n",
       "\n",
       "  Nationality BeginDate EndDate    Gender       Date  \\\n",
       "0  (American)    (1947)  (2013)  (Female)       1986   \n",
       "1   (Spanish)    (1916)  (2007)    (Male)       1978   \n",
       "2    (French)    (1870)  (1943)    (Male)  1889-1911   \n",
       "3    (French)    (1861)  (1944)    (Male)  1927-1940   \n",
       "4    (French)    (1857)  (1927)    (Male)       1903   \n",
       "\n",
       "                   Department  \n",
       "0  Prints & Illustrated Books  \n",
       "1  Prints & Illustrated Books  \n",
       "2  Prints & Illustrated Books  \n",
       "3  Prints & Illustrated Books  \n",
       "4                 Photography  "
      ]
     },
     "execution_count": 4,
     "metadata": {},
     "output_type": "execute_result"
    }
   ],
   "source": [
    "arts.head()"
   ]
  },
  {
   "cell_type": "code",
   "execution_count": 5,
   "id": "e7cd38f1",
   "metadata": {},
   "outputs": [
    {
     "name": "stderr",
     "output_type": "stream",
     "text": [
      "C:\\Users\\hp\\AppData\\Local\\Temp\\ipykernel_8004\\2003723855.py:1: FutureWarning: The default value of regex will change from True to False in a future version. In addition, single character regular expressions will *not* be treated as literal strings when regex=True.\n",
      "  arts[\"Gender\"] = arts[\"Gender\"].str.replace(\"(\", \"\").str.replace(\")\", \"\")\n"
     ]
    }
   ],
   "source": [
    "arts[\"Gender\"] = arts[\"Gender\"].str.replace(\"(\", \"\").str.replace(\")\", \"\")"
   ]
  },
  {
   "cell_type": "code",
   "execution_count": 6,
   "id": "1125ae3d",
   "metadata": {},
   "outputs": [
    {
     "name": "stderr",
     "output_type": "stream",
     "text": [
      "C:\\Users\\hp\\AppData\\Local\\Temp\\ipykernel_8004\\1366814821.py:1: FutureWarning: The default value of regex will change from True to False in a future version. In addition, single character regular expressions will *not* be treated as literal strings when regex=True.\n",
      "  arts[\"Nationality\"] = arts[\"Nationality\"].str.replace(\"(\", \"\").str.replace(\")\", \"\")\n"
     ]
    }
   ],
   "source": [
    "arts[\"Nationality\"] = arts[\"Nationality\"].str.replace(\"(\", \"\").str.replace(\")\", \"\")"
   ]
  },
  {
   "cell_type": "code",
   "execution_count": 7,
   "id": "de7bc0e6",
   "metadata": {},
   "outputs": [
    {
     "data": {
      "text/plain": [
       "array(['Female', 'Male', '', 'male'], dtype=object)"
      ]
     },
     "execution_count": 7,
     "metadata": {},
     "output_type": "execute_result"
    }
   ],
   "source": [
    "arts[\"Gender\"].unique()"
   ]
  },
  {
   "cell_type": "code",
   "execution_count": 8,
   "id": "feaedb12",
   "metadata": {},
   "outputs": [],
   "source": [
    "arts[\"Gender\"] = arts[\"Gender\"].str.title()"
   ]
  },
  {
   "cell_type": "code",
   "execution_count": 9,
   "id": "01f4a298",
   "metadata": {},
   "outputs": [
    {
     "data": {
      "text/plain": [
       "array(['Female', 'Male', ''], dtype=object)"
      ]
     },
     "execution_count": 9,
     "metadata": {},
     "output_type": "execute_result"
    }
   ],
   "source": [
    "arts[\"Gender\"].str.replace(\"''\", \"Unknown\").unique()"
   ]
  },
  {
   "cell_type": "code",
   "execution_count": 10,
   "id": "3955e15c",
   "metadata": {},
   "outputs": [],
   "source": [
    "bol = arts[\"Gender\"] == ''"
   ]
  },
  {
   "cell_type": "code",
   "execution_count": 11,
   "id": "09ee6724",
   "metadata": {},
   "outputs": [
    {
     "data": {
      "text/plain": [
       "791"
      ]
     },
     "execution_count": 11,
     "metadata": {},
     "output_type": "execute_result"
    }
   ],
   "source": [
    "sum(bol)"
   ]
  },
  {
   "cell_type": "code",
   "execution_count": 12,
   "id": "d68d9809",
   "metadata": {},
   "outputs": [
    {
     "data": {
      "text/html": [
       "<div>\n",
       "<style scoped>\n",
       "    .dataframe tbody tr th:only-of-type {\n",
       "        vertical-align: middle;\n",
       "    }\n",
       "\n",
       "    .dataframe tbody tr th {\n",
       "        vertical-align: top;\n",
       "    }\n",
       "\n",
       "    .dataframe thead th {\n",
       "        text-align: right;\n",
       "    }\n",
       "</style>\n",
       "<table border=\"1\" class=\"dataframe\">\n",
       "  <thead>\n",
       "    <tr style=\"text-align: right;\">\n",
       "      <th></th>\n",
       "      <th>Title</th>\n",
       "      <th>Artist</th>\n",
       "      <th>Nationality</th>\n",
       "      <th>BeginDate</th>\n",
       "      <th>EndDate</th>\n",
       "      <th>Gender</th>\n",
       "      <th>Date</th>\n",
       "      <th>Department</th>\n",
       "    </tr>\n",
       "  </thead>\n",
       "  <tbody>\n",
       "    <tr>\n",
       "      <th>31</th>\n",
       "      <td>Untitled</td>\n",
       "      <td>Unknown</td>\n",
       "      <td></td>\n",
       "      <td>NaN</td>\n",
       "      <td>NaN</td>\n",
       "      <td></td>\n",
       "      <td>c. 1925</td>\n",
       "      <td>Photography</td>\n",
       "    </tr>\n",
       "    <tr>\n",
       "      <th>90</th>\n",
       "      <td>Bar Tools</td>\n",
       "      <td>Studio Opi</td>\n",
       "      <td>Italian</td>\n",
       "      <td>(1955)</td>\n",
       "      <td>NaN</td>\n",
       "      <td></td>\n",
       "      <td>1969</td>\n",
       "      <td>Architecture &amp; Design</td>\n",
       "    </tr>\n",
       "    <tr>\n",
       "      <th>137</th>\n",
       "      <td>Nations</td>\n",
       "      <td>Slavs and Tatars</td>\n",
       "      <td></td>\n",
       "      <td>(2005)</td>\n",
       "      <td>NaN</td>\n",
       "      <td></td>\n",
       "      <td>2007</td>\n",
       "      <td>Prints &amp; Illustrated Books</td>\n",
       "    </tr>\n",
       "    <tr>\n",
       "      <th>177</th>\n",
       "      <td>El Frente Popular de Madrid Al Frente Popular ...</td>\n",
       "      <td>J. Briones</td>\n",
       "      <td>Spanish</td>\n",
       "      <td>NaN</td>\n",
       "      <td>NaN</td>\n",
       "      <td></td>\n",
       "      <td>1936-1937</td>\n",
       "      <td>Architecture &amp; Design</td>\n",
       "    </tr>\n",
       "    <tr>\n",
       "      <th>185</th>\n",
       "      <td>Untitled</td>\n",
       "      <td>Unknown</td>\n",
       "      <td></td>\n",
       "      <td>NaN</td>\n",
       "      <td>NaN</td>\n",
       "      <td></td>\n",
       "      <td>1923-1951</td>\n",
       "      <td>Photography</td>\n",
       "    </tr>\n",
       "    <tr>\n",
       "      <th>...</th>\n",
       "      <td>...</td>\n",
       "      <td>...</td>\n",
       "      <td>...</td>\n",
       "      <td>...</td>\n",
       "      <td>...</td>\n",
       "      <td>...</td>\n",
       "      <td>...</td>\n",
       "      <td>...</td>\n",
       "    </tr>\n",
       "    <tr>\n",
       "      <th>16664</th>\n",
       "      <td>Untitled</td>\n",
       "      <td>Unknown</td>\n",
       "      <td></td>\n",
       "      <td>NaN</td>\n",
       "      <td>NaN</td>\n",
       "      <td></td>\n",
       "      <td>c. 1960</td>\n",
       "      <td>Photography</td>\n",
       "    </tr>\n",
       "    <tr>\n",
       "      <th>16670</th>\n",
       "      <td>Inflatable Armchair</td>\n",
       "      <td>Quasar (Nguyen Manh Khanh)</td>\n",
       "      <td>Vietnamese</td>\n",
       "      <td>(1934)</td>\n",
       "      <td>NaN</td>\n",
       "      <td></td>\n",
       "      <td>1967-1968</td>\n",
       "      <td>Architecture &amp; Design</td>\n",
       "    </tr>\n",
       "    <tr>\n",
       "      <th>16688</th>\n",
       "      <td>Poster of the French National Railroad</td>\n",
       "      <td>Album-miscellaneous</td>\n",
       "      <td>Various</td>\n",
       "      <td>NaN</td>\n",
       "      <td>NaN</td>\n",
       "      <td></td>\n",
       "      <td>1900-1943</td>\n",
       "      <td>Architecture &amp; Design</td>\n",
       "    </tr>\n",
       "    <tr>\n",
       "      <th>16702</th>\n",
       "      <td>Salon de la Plume</td>\n",
       "      <td>Unknown</td>\n",
       "      <td>Nationality Unknown</td>\n",
       "      <td>NaN</td>\n",
       "      <td>NaN</td>\n",
       "      <td></td>\n",
       "      <td>1880-1910</td>\n",
       "      <td>Architecture &amp; Design</td>\n",
       "    </tr>\n",
       "    <tr>\n",
       "      <th>16723</th>\n",
       "      <td>Dognat' i peregnat' v tekhniko-ekonomicheskom ...</td>\n",
       "      <td>Unknown</td>\n",
       "      <td></td>\n",
       "      <td>NaN</td>\n",
       "      <td>NaN</td>\n",
       "      <td></td>\n",
       "      <td>1931</td>\n",
       "      <td>Prints &amp; Illustrated Books</td>\n",
       "    </tr>\n",
       "  </tbody>\n",
       "</table>\n",
       "<p>791 rows × 8 columns</p>\n",
       "</div>"
      ],
      "text/plain": [
       "                                                   Title  \\\n",
       "31                                              Untitled   \n",
       "90                                             Bar Tools   \n",
       "137                                              Nations   \n",
       "177    El Frente Popular de Madrid Al Frente Popular ...   \n",
       "185                                             Untitled   \n",
       "...                                                  ...   \n",
       "16664                                           Untitled   \n",
       "16670                                Inflatable Armchair   \n",
       "16688             Poster of the French National Railroad   \n",
       "16702                                  Salon de la Plume   \n",
       "16723  Dognat' i peregnat' v tekhniko-ekonomicheskom ...   \n",
       "\n",
       "                           Artist          Nationality BeginDate EndDate  \\\n",
       "31                        Unknown                            NaN     NaN   \n",
       "90                     Studio Opi              Italian    (1955)     NaN   \n",
       "137              Slavs and Tatars                         (2005)     NaN   \n",
       "177                    J. Briones              Spanish       NaN     NaN   \n",
       "185                       Unknown                            NaN     NaN   \n",
       "...                           ...                  ...       ...     ...   \n",
       "16664                     Unknown                            NaN     NaN   \n",
       "16670  Quasar (Nguyen Manh Khanh)           Vietnamese    (1934)     NaN   \n",
       "16688         Album-miscellaneous              Various       NaN     NaN   \n",
       "16702                     Unknown  Nationality Unknown       NaN     NaN   \n",
       "16723                     Unknown                            NaN     NaN   \n",
       "\n",
       "      Gender       Date                  Department  \n",
       "31              c. 1925                 Photography  \n",
       "90                 1969       Architecture & Design  \n",
       "137                2007  Prints & Illustrated Books  \n",
       "177           1936-1937       Architecture & Design  \n",
       "185           1923-1951                 Photography  \n",
       "...      ...        ...                         ...  \n",
       "16664           c. 1960                 Photography  \n",
       "16670         1967-1968       Architecture & Design  \n",
       "16688         1900-1943       Architecture & Design  \n",
       "16702         1880-1910       Architecture & Design  \n",
       "16723              1931  Prints & Illustrated Books  \n",
       "\n",
       "[791 rows x 8 columns]"
      ]
     },
     "execution_count": 12,
     "metadata": {},
     "output_type": "execute_result"
    }
   ],
   "source": [
    "arts[bol] # boolean indexing"
   ]
  },
  {
   "cell_type": "code",
   "execution_count": 13,
   "id": "5ddee7c5",
   "metadata": {},
   "outputs": [],
   "source": [
    "arts.loc[bol, \"Gender\"] = \"Gender Unknow\""
   ]
  },
  {
   "cell_type": "code",
   "execution_count": 14,
   "id": "6f3706a5",
   "metadata": {},
   "outputs": [
    {
     "data": {
      "text/plain": [
       "array(['Female', 'Male', 'Gender Unknow'], dtype=object)"
      ]
     },
     "execution_count": 14,
     "metadata": {},
     "output_type": "execute_result"
    }
   ],
   "source": [
    "arts[\"Gender\"].unique()"
   ]
  },
  {
   "cell_type": "code",
   "execution_count": 15,
   "id": "1f21e08a",
   "metadata": {},
   "outputs": [
    {
     "data": {
      "text/plain": [
       "Male             13491\n",
       "Female            2443\n",
       "Gender Unknow      791\n",
       "Name: Gender, dtype: int64"
      ]
     },
     "execution_count": 15,
     "metadata": {},
     "output_type": "execute_result"
    }
   ],
   "source": [
    "arts[\"Gender\"].value_counts()"
   ]
  },
  {
   "cell_type": "code",
   "execution_count": 16,
   "id": "d0ed980c",
   "metadata": {},
   "outputs": [
    {
     "data": {
      "text/plain": [
       "0        (1947)\n",
       "1        (1916)\n",
       "2        (1870)\n",
       "3        (1861)\n",
       "4        (1857)\n",
       "          ...  \n",
       "16720    (1898)\n",
       "16721    (1942)\n",
       "16722    (1882)\n",
       "16723       NaN\n",
       "16724    (1927)\n",
       "Name: BeginDate, Length: 16725, dtype: object"
      ]
     },
     "execution_count": 16,
     "metadata": {},
     "output_type": "execute_result"
    }
   ],
   "source": [
    "arts[\"BeginDate\"]"
   ]
  },
  {
   "cell_type": "code",
   "execution_count": 17,
   "id": "ef5ac415",
   "metadata": {},
   "outputs": [
    {
     "name": "stderr",
     "output_type": "stream",
     "text": [
      "C:\\Users\\hp\\AppData\\Local\\Temp\\ipykernel_8004\\370279827.py:1: FutureWarning: The default value of regex will change from True to False in a future version. In addition, single character regular expressions will *not* be treated as literal strings when regex=True.\n",
      "  arts[\"BeginDate\"].str.replace(\"(\", \"\").str.replace(\")\", \"\").astype(int)\n"
     ]
    },
    {
     "ename": "ValueError",
     "evalue": "cannot convert float NaN to integer",
     "output_type": "error",
     "traceback": [
      "\u001b[1;31m---------------------------------------------------------------------------\u001b[0m",
      "\u001b[1;31mValueError\u001b[0m                                Traceback (most recent call last)",
      "\u001b[1;32m~\\AppData\\Local\\Temp\\ipykernel_8004\\370279827.py\u001b[0m in \u001b[0;36m<module>\u001b[1;34m\u001b[0m\n\u001b[1;32m----> 1\u001b[1;33m \u001b[0marts\u001b[0m\u001b[1;33m[\u001b[0m\u001b[1;34m\"BeginDate\"\u001b[0m\u001b[1;33m]\u001b[0m\u001b[1;33m.\u001b[0m\u001b[0mstr\u001b[0m\u001b[1;33m.\u001b[0m\u001b[0mreplace\u001b[0m\u001b[1;33m(\u001b[0m\u001b[1;34m\"(\"\u001b[0m\u001b[1;33m,\u001b[0m \u001b[1;34m\"\"\u001b[0m\u001b[1;33m)\u001b[0m\u001b[1;33m.\u001b[0m\u001b[0mstr\u001b[0m\u001b[1;33m.\u001b[0m\u001b[0mreplace\u001b[0m\u001b[1;33m(\u001b[0m\u001b[1;34m\")\"\u001b[0m\u001b[1;33m,\u001b[0m \u001b[1;34m\"\"\u001b[0m\u001b[1;33m)\u001b[0m\u001b[1;33m.\u001b[0m\u001b[0mastype\u001b[0m\u001b[1;33m(\u001b[0m\u001b[0mint\u001b[0m\u001b[1;33m)\u001b[0m\u001b[1;33m\u001b[0m\u001b[1;33m\u001b[0m\u001b[0m\n\u001b[0m",
      "\u001b[1;32mD:\\Users\\hp\\anaconda3\\lib\\site-packages\\pandas\\core\\generic.py\u001b[0m in \u001b[0;36mastype\u001b[1;34m(self, dtype, copy, errors)\u001b[0m\n\u001b[0;32m   5910\u001b[0m         \u001b[1;32melse\u001b[0m\u001b[1;33m:\u001b[0m\u001b[1;33m\u001b[0m\u001b[1;33m\u001b[0m\u001b[0m\n\u001b[0;32m   5911\u001b[0m             \u001b[1;31m# else, only a single dtype is given\u001b[0m\u001b[1;33m\u001b[0m\u001b[1;33m\u001b[0m\u001b[0m\n\u001b[1;32m-> 5912\u001b[1;33m             \u001b[0mnew_data\u001b[0m \u001b[1;33m=\u001b[0m \u001b[0mself\u001b[0m\u001b[1;33m.\u001b[0m\u001b[0m_mgr\u001b[0m\u001b[1;33m.\u001b[0m\u001b[0mastype\u001b[0m\u001b[1;33m(\u001b[0m\u001b[0mdtype\u001b[0m\u001b[1;33m=\u001b[0m\u001b[0mdtype\u001b[0m\u001b[1;33m,\u001b[0m \u001b[0mcopy\u001b[0m\u001b[1;33m=\u001b[0m\u001b[0mcopy\u001b[0m\u001b[1;33m,\u001b[0m \u001b[0merrors\u001b[0m\u001b[1;33m=\u001b[0m\u001b[0merrors\u001b[0m\u001b[1;33m)\u001b[0m\u001b[1;33m\u001b[0m\u001b[1;33m\u001b[0m\u001b[0m\n\u001b[0m\u001b[0;32m   5913\u001b[0m             \u001b[1;32mreturn\u001b[0m \u001b[0mself\u001b[0m\u001b[1;33m.\u001b[0m\u001b[0m_constructor\u001b[0m\u001b[1;33m(\u001b[0m\u001b[0mnew_data\u001b[0m\u001b[1;33m)\u001b[0m\u001b[1;33m.\u001b[0m\u001b[0m__finalize__\u001b[0m\u001b[1;33m(\u001b[0m\u001b[0mself\u001b[0m\u001b[1;33m,\u001b[0m \u001b[0mmethod\u001b[0m\u001b[1;33m=\u001b[0m\u001b[1;34m\"astype\"\u001b[0m\u001b[1;33m)\u001b[0m\u001b[1;33m\u001b[0m\u001b[1;33m\u001b[0m\u001b[0m\n\u001b[0;32m   5914\u001b[0m \u001b[1;33m\u001b[0m\u001b[0m\n",
      "\u001b[1;32mD:\\Users\\hp\\anaconda3\\lib\\site-packages\\pandas\\core\\internals\\managers.py\u001b[0m in \u001b[0;36mastype\u001b[1;34m(self, dtype, copy, errors)\u001b[0m\n\u001b[0;32m    417\u001b[0m \u001b[1;33m\u001b[0m\u001b[0m\n\u001b[0;32m    418\u001b[0m     \u001b[1;32mdef\u001b[0m \u001b[0mastype\u001b[0m\u001b[1;33m(\u001b[0m\u001b[0mself\u001b[0m\u001b[1;33m:\u001b[0m \u001b[0mT\u001b[0m\u001b[1;33m,\u001b[0m \u001b[0mdtype\u001b[0m\u001b[1;33m,\u001b[0m \u001b[0mcopy\u001b[0m\u001b[1;33m:\u001b[0m \u001b[0mbool\u001b[0m \u001b[1;33m=\u001b[0m \u001b[1;32mFalse\u001b[0m\u001b[1;33m,\u001b[0m \u001b[0merrors\u001b[0m\u001b[1;33m:\u001b[0m \u001b[0mstr\u001b[0m \u001b[1;33m=\u001b[0m \u001b[1;34m\"raise\"\u001b[0m\u001b[1;33m)\u001b[0m \u001b[1;33m->\u001b[0m \u001b[0mT\u001b[0m\u001b[1;33m:\u001b[0m\u001b[1;33m\u001b[0m\u001b[1;33m\u001b[0m\u001b[0m\n\u001b[1;32m--> 419\u001b[1;33m         \u001b[1;32mreturn\u001b[0m \u001b[0mself\u001b[0m\u001b[1;33m.\u001b[0m\u001b[0mapply\u001b[0m\u001b[1;33m(\u001b[0m\u001b[1;34m\"astype\"\u001b[0m\u001b[1;33m,\u001b[0m \u001b[0mdtype\u001b[0m\u001b[1;33m=\u001b[0m\u001b[0mdtype\u001b[0m\u001b[1;33m,\u001b[0m \u001b[0mcopy\u001b[0m\u001b[1;33m=\u001b[0m\u001b[0mcopy\u001b[0m\u001b[1;33m,\u001b[0m \u001b[0merrors\u001b[0m\u001b[1;33m=\u001b[0m\u001b[0merrors\u001b[0m\u001b[1;33m)\u001b[0m\u001b[1;33m\u001b[0m\u001b[1;33m\u001b[0m\u001b[0m\n\u001b[0m\u001b[0;32m    420\u001b[0m \u001b[1;33m\u001b[0m\u001b[0m\n\u001b[0;32m    421\u001b[0m     def convert(\n",
      "\u001b[1;32mD:\\Users\\hp\\anaconda3\\lib\\site-packages\\pandas\\core\\internals\\managers.py\u001b[0m in \u001b[0;36mapply\u001b[1;34m(self, f, align_keys, ignore_failures, **kwargs)\u001b[0m\n\u001b[0;32m    302\u001b[0m                     \u001b[0mapplied\u001b[0m \u001b[1;33m=\u001b[0m \u001b[0mb\u001b[0m\u001b[1;33m.\u001b[0m\u001b[0mapply\u001b[0m\u001b[1;33m(\u001b[0m\u001b[0mf\u001b[0m\u001b[1;33m,\u001b[0m \u001b[1;33m**\u001b[0m\u001b[0mkwargs\u001b[0m\u001b[1;33m)\u001b[0m\u001b[1;33m\u001b[0m\u001b[1;33m\u001b[0m\u001b[0m\n\u001b[0;32m    303\u001b[0m                 \u001b[1;32melse\u001b[0m\u001b[1;33m:\u001b[0m\u001b[1;33m\u001b[0m\u001b[1;33m\u001b[0m\u001b[0m\n\u001b[1;32m--> 304\u001b[1;33m                     \u001b[0mapplied\u001b[0m \u001b[1;33m=\u001b[0m \u001b[0mgetattr\u001b[0m\u001b[1;33m(\u001b[0m\u001b[0mb\u001b[0m\u001b[1;33m,\u001b[0m \u001b[0mf\u001b[0m\u001b[1;33m)\u001b[0m\u001b[1;33m(\u001b[0m\u001b[1;33m**\u001b[0m\u001b[0mkwargs\u001b[0m\u001b[1;33m)\u001b[0m\u001b[1;33m\u001b[0m\u001b[1;33m\u001b[0m\u001b[0m\n\u001b[0m\u001b[0;32m    305\u001b[0m             \u001b[1;32mexcept\u001b[0m \u001b[1;33m(\u001b[0m\u001b[0mTypeError\u001b[0m\u001b[1;33m,\u001b[0m \u001b[0mNotImplementedError\u001b[0m\u001b[1;33m)\u001b[0m\u001b[1;33m:\u001b[0m\u001b[1;33m\u001b[0m\u001b[1;33m\u001b[0m\u001b[0m\n\u001b[0;32m    306\u001b[0m                 \u001b[1;32mif\u001b[0m \u001b[1;32mnot\u001b[0m \u001b[0mignore_failures\u001b[0m\u001b[1;33m:\u001b[0m\u001b[1;33m\u001b[0m\u001b[1;33m\u001b[0m\u001b[0m\n",
      "\u001b[1;32mD:\\Users\\hp\\anaconda3\\lib\\site-packages\\pandas\\core\\internals\\blocks.py\u001b[0m in \u001b[0;36mastype\u001b[1;34m(self, dtype, copy, errors)\u001b[0m\n\u001b[0;32m    578\u001b[0m         \u001b[0mvalues\u001b[0m \u001b[1;33m=\u001b[0m \u001b[0mself\u001b[0m\u001b[1;33m.\u001b[0m\u001b[0mvalues\u001b[0m\u001b[1;33m\u001b[0m\u001b[1;33m\u001b[0m\u001b[0m\n\u001b[0;32m    579\u001b[0m \u001b[1;33m\u001b[0m\u001b[0m\n\u001b[1;32m--> 580\u001b[1;33m         \u001b[0mnew_values\u001b[0m \u001b[1;33m=\u001b[0m \u001b[0mastype_array_safe\u001b[0m\u001b[1;33m(\u001b[0m\u001b[0mvalues\u001b[0m\u001b[1;33m,\u001b[0m \u001b[0mdtype\u001b[0m\u001b[1;33m,\u001b[0m \u001b[0mcopy\u001b[0m\u001b[1;33m=\u001b[0m\u001b[0mcopy\u001b[0m\u001b[1;33m,\u001b[0m \u001b[0merrors\u001b[0m\u001b[1;33m=\u001b[0m\u001b[0merrors\u001b[0m\u001b[1;33m)\u001b[0m\u001b[1;33m\u001b[0m\u001b[1;33m\u001b[0m\u001b[0m\n\u001b[0m\u001b[0;32m    581\u001b[0m \u001b[1;33m\u001b[0m\u001b[0m\n\u001b[0;32m    582\u001b[0m         \u001b[0mnew_values\u001b[0m \u001b[1;33m=\u001b[0m \u001b[0mmaybe_coerce_values\u001b[0m\u001b[1;33m(\u001b[0m\u001b[0mnew_values\u001b[0m\u001b[1;33m)\u001b[0m\u001b[1;33m\u001b[0m\u001b[1;33m\u001b[0m\u001b[0m\n",
      "\u001b[1;32mD:\\Users\\hp\\anaconda3\\lib\\site-packages\\pandas\\core\\dtypes\\cast.py\u001b[0m in \u001b[0;36mastype_array_safe\u001b[1;34m(values, dtype, copy, errors)\u001b[0m\n\u001b[0;32m   1290\u001b[0m \u001b[1;33m\u001b[0m\u001b[0m\n\u001b[0;32m   1291\u001b[0m     \u001b[1;32mtry\u001b[0m\u001b[1;33m:\u001b[0m\u001b[1;33m\u001b[0m\u001b[1;33m\u001b[0m\u001b[0m\n\u001b[1;32m-> 1292\u001b[1;33m         \u001b[0mnew_values\u001b[0m \u001b[1;33m=\u001b[0m \u001b[0mastype_array\u001b[0m\u001b[1;33m(\u001b[0m\u001b[0mvalues\u001b[0m\u001b[1;33m,\u001b[0m \u001b[0mdtype\u001b[0m\u001b[1;33m,\u001b[0m \u001b[0mcopy\u001b[0m\u001b[1;33m=\u001b[0m\u001b[0mcopy\u001b[0m\u001b[1;33m)\u001b[0m\u001b[1;33m\u001b[0m\u001b[1;33m\u001b[0m\u001b[0m\n\u001b[0m\u001b[0;32m   1293\u001b[0m     \u001b[1;32mexcept\u001b[0m \u001b[1;33m(\u001b[0m\u001b[0mValueError\u001b[0m\u001b[1;33m,\u001b[0m \u001b[0mTypeError\u001b[0m\u001b[1;33m)\u001b[0m\u001b[1;33m:\u001b[0m\u001b[1;33m\u001b[0m\u001b[1;33m\u001b[0m\u001b[0m\n\u001b[0;32m   1294\u001b[0m         \u001b[1;31m# e.g. astype_nansafe can fail on object-dtype of strings\u001b[0m\u001b[1;33m\u001b[0m\u001b[1;33m\u001b[0m\u001b[0m\n",
      "\u001b[1;32mD:\\Users\\hp\\anaconda3\\lib\\site-packages\\pandas\\core\\dtypes\\cast.py\u001b[0m in \u001b[0;36mastype_array\u001b[1;34m(values, dtype, copy)\u001b[0m\n\u001b[0;32m   1235\u001b[0m \u001b[1;33m\u001b[0m\u001b[0m\n\u001b[0;32m   1236\u001b[0m     \u001b[1;32melse\u001b[0m\u001b[1;33m:\u001b[0m\u001b[1;33m\u001b[0m\u001b[1;33m\u001b[0m\u001b[0m\n\u001b[1;32m-> 1237\u001b[1;33m         \u001b[0mvalues\u001b[0m \u001b[1;33m=\u001b[0m \u001b[0mastype_nansafe\u001b[0m\u001b[1;33m(\u001b[0m\u001b[0mvalues\u001b[0m\u001b[1;33m,\u001b[0m \u001b[0mdtype\u001b[0m\u001b[1;33m,\u001b[0m \u001b[0mcopy\u001b[0m\u001b[1;33m=\u001b[0m\u001b[0mcopy\u001b[0m\u001b[1;33m)\u001b[0m\u001b[1;33m\u001b[0m\u001b[1;33m\u001b[0m\u001b[0m\n\u001b[0m\u001b[0;32m   1238\u001b[0m \u001b[1;33m\u001b[0m\u001b[0m\n\u001b[0;32m   1239\u001b[0m     \u001b[1;31m# in pandas we don't store numpy str dtypes, so convert to object\u001b[0m\u001b[1;33m\u001b[0m\u001b[1;33m\u001b[0m\u001b[0m\n",
      "\u001b[1;32mD:\\Users\\hp\\anaconda3\\lib\\site-packages\\pandas\\core\\dtypes\\cast.py\u001b[0m in \u001b[0;36mastype_nansafe\u001b[1;34m(arr, dtype, copy, skipna)\u001b[0m\n\u001b[0;32m   1152\u001b[0m         \u001b[1;31m# work around NumPy brokenness, #1987\u001b[0m\u001b[1;33m\u001b[0m\u001b[1;33m\u001b[0m\u001b[0m\n\u001b[0;32m   1153\u001b[0m         \u001b[1;32mif\u001b[0m \u001b[0mnp\u001b[0m\u001b[1;33m.\u001b[0m\u001b[0missubdtype\u001b[0m\u001b[1;33m(\u001b[0m\u001b[0mdtype\u001b[0m\u001b[1;33m.\u001b[0m\u001b[0mtype\u001b[0m\u001b[1;33m,\u001b[0m \u001b[0mnp\u001b[0m\u001b[1;33m.\u001b[0m\u001b[0minteger\u001b[0m\u001b[1;33m)\u001b[0m\u001b[1;33m:\u001b[0m\u001b[1;33m\u001b[0m\u001b[1;33m\u001b[0m\u001b[0m\n\u001b[1;32m-> 1154\u001b[1;33m             \u001b[1;32mreturn\u001b[0m \u001b[0mlib\u001b[0m\u001b[1;33m.\u001b[0m\u001b[0mastype_intsafe\u001b[0m\u001b[1;33m(\u001b[0m\u001b[0marr\u001b[0m\u001b[1;33m,\u001b[0m \u001b[0mdtype\u001b[0m\u001b[1;33m)\u001b[0m\u001b[1;33m\u001b[0m\u001b[1;33m\u001b[0m\u001b[0m\n\u001b[0m\u001b[0;32m   1155\u001b[0m \u001b[1;33m\u001b[0m\u001b[0m\n\u001b[0;32m   1156\u001b[0m         \u001b[1;31m# if we have a datetime/timedelta array of objects\u001b[0m\u001b[1;33m\u001b[0m\u001b[1;33m\u001b[0m\u001b[0m\n",
      "\u001b[1;32mD:\\Users\\hp\\anaconda3\\lib\\site-packages\\pandas\\_libs\\lib.pyx\u001b[0m in \u001b[0;36mpandas._libs.lib.astype_intsafe\u001b[1;34m()\u001b[0m\n",
      "\u001b[1;31mValueError\u001b[0m: cannot convert float NaN to integer"
     ]
    }
   ],
   "source": [
    "arts[\"BeginDate\"].str.replace(\"(\", \"\").str.replace(\")\", \"\").astype(int)"
   ]
  },
  {
   "cell_type": "code",
   "execution_count": 18,
   "id": "6dab35b6",
   "metadata": {},
   "outputs": [
    {
     "name": "stderr",
     "output_type": "stream",
     "text": [
      "C:\\Users\\hp\\AppData\\Local\\Temp\\ipykernel_8004\\2801313520.py:1: FutureWarning: The default value of regex will change from True to False in a future version. In addition, single character regular expressions will *not* be treated as literal strings when regex=True.\n",
      "  arts[\"BeginDate\"].str.replace(\"(\", \"\").str.replace(\")\", \"\").astype(float)\n"
     ]
    },
    {
     "data": {
      "text/plain": [
       "0        1947.0\n",
       "1        1916.0\n",
       "2        1870.0\n",
       "3        1861.0\n",
       "4        1857.0\n",
       "          ...  \n",
       "16720    1898.0\n",
       "16721    1942.0\n",
       "16722    1882.0\n",
       "16723       NaN\n",
       "16724    1927.0\n",
       "Name: BeginDate, Length: 16725, dtype: float64"
      ]
     },
     "execution_count": 18,
     "metadata": {},
     "output_type": "execute_result"
    }
   ],
   "source": [
    "arts[\"BeginDate\"].str.replace(\"(\", \"\").str.replace(\")\", \"\").astype(float)"
   ]
  },
  {
   "cell_type": "code",
   "execution_count": 19,
   "id": "a2f2295d",
   "metadata": {},
   "outputs": [
    {
     "name": "stderr",
     "output_type": "stream",
     "text": [
      "C:\\Users\\hp\\AppData\\Local\\Temp\\ipykernel_8004\\2650490978.py:1: FutureWarning: The default value of regex will change from True to False in a future version. In addition, single character regular expressions will *not* be treated as literal strings when regex=True.\n",
      "  arts[\"BeginDate\"] = arts[\"BeginDate\"].str.replace(\"(\", \"\").str.replace(\")\", \"\").astype(float)\n"
     ]
    }
   ],
   "source": [
    "arts[\"BeginDate\"] = arts[\"BeginDate\"].str.replace(\"(\", \"\").str.replace(\")\", \"\").astype(float)"
   ]
  },
  {
   "cell_type": "code",
   "execution_count": 20,
   "id": "56553cb6",
   "metadata": {},
   "outputs": [
    {
     "data": {
      "text/plain": [
       "Title           object\n",
       "Artist          object\n",
       "Nationality     object\n",
       "BeginDate      float64\n",
       "EndDate         object\n",
       "Gender          object\n",
       "Date            object\n",
       "Department      object\n",
       "dtype: object"
      ]
     },
     "execution_count": 20,
     "metadata": {},
     "output_type": "execute_result"
    }
   ],
   "source": [
    "arts.dtypes"
   ]
  },
  {
   "cell_type": "code",
   "execution_count": 21,
   "id": "53e094bc",
   "metadata": {},
   "outputs": [
    {
     "name": "stderr",
     "output_type": "stream",
     "text": [
      "C:\\Users\\hp\\AppData\\Local\\Temp\\ipykernel_8004\\1320520668.py:1: FutureWarning: The default value of regex will change from True to False in a future version. In addition, single character regular expressions will *not* be treated as literal strings when regex=True.\n",
      "  arts[\"EndDate\"] = arts[\"EndDate\"].str.replace(\"(\", \"\").str.replace(\")\", \"\").astype(float)\n"
     ]
    }
   ],
   "source": [
    "arts[\"EndDate\"] = arts[\"EndDate\"].str.replace(\"(\", \"\").str.replace(\")\", \"\").astype(float)"
   ]
  },
  {
   "cell_type": "code",
   "execution_count": 22,
   "id": "6c8865db",
   "metadata": {},
   "outputs": [
    {
     "name": "stdout",
     "output_type": "stream",
     "text": [
      "<class 'pandas.core.frame.DataFrame'>\n",
      "RangeIndex: 16725 entries, 0 to 16724\n",
      "Data columns (total 8 columns):\n",
      " #   Column       Non-Null Count  Dtype  \n",
      "---  ------       --------------  -----  \n",
      " 0   Title        16724 non-null  object \n",
      " 1   Artist       16725 non-null  object \n",
      " 2   Nationality  16725 non-null  object \n",
      " 3   BeginDate    15786 non-null  float64\n",
      " 4   EndDate      10474 non-null  float64\n",
      " 5   Gender       16725 non-null  object \n",
      " 6   Date         16725 non-null  object \n",
      " 7   Department   16725 non-null  object \n",
      "dtypes: float64(2), object(6)\n",
      "memory usage: 1.0+ MB\n"
     ]
    }
   ],
   "source": [
    "arts.info()"
   ]
  },
  {
   "cell_type": "code",
   "execution_count": 23,
   "id": "e600d1cc",
   "metadata": {},
   "outputs": [
    {
     "data": {
      "text/plain": [
       "9"
      ]
     },
     "execution_count": 23,
     "metadata": {},
     "output_type": "execute_result"
    }
   ],
   "source": [
    "bad_chr = [\"(\", \")\", \"c\", \"C\", \".\", \"'\", \" \", \"s\", \"-\"]\n",
    "len(bad_chr)"
   ]
  },
  {
   "cell_type": "code",
   "execution_count": 24,
   "id": "486e24a3",
   "metadata": {},
   "outputs": [
    {
     "data": {
      "text/plain": [
       "'1947'"
      ]
     },
     "execution_count": 24,
     "metadata": {},
     "output_type": "execute_result"
    }
   ],
   "source": [
    "date = \"(c. 1947's)\"\n",
    "\n",
    "for i in bad_chr:\n",
    "    date = date.replace(i, \"\")\n",
    "date"
   ]
  },
  {
   "cell_type": "code",
   "execution_count": 25,
   "id": "e323bf86",
   "metadata": {},
   "outputs": [
    {
     "data": {
      "text/plain": [
       "0             1986\n",
       "1             1978\n",
       "2        1889-1911\n",
       "3        1927-1940\n",
       "4             1903\n",
       "           ...    \n",
       "16720    1968-1969\n",
       "16721         1975\n",
       "16722         1922\n",
       "16723         1931\n",
       "16724         2011\n",
       "Name: Date, Length: 16725, dtype: object"
      ]
     },
     "execution_count": 25,
     "metadata": {},
     "output_type": "execute_result"
    }
   ],
   "source": [
    "def remove_bad_chr(date):\n",
    "    for i in bad_chr:\n",
    "        date = date.replace(i, \"\")\n",
    "        return date\n",
    "arts[\"Date\"].apply(remove_bad_chr)"
   ]
  },
  {
   "cell_type": "code",
   "execution_count": 26,
   "id": "15660b2c",
   "metadata": {},
   "outputs": [],
   "source": [
    "def clean_date(date):\n",
    "    bad_chr = [\"(\", \")\", \"c\", \"C\", \".\", \"'\", \" \", \"s\"]\n",
    "    for i in bad_chr:\n",
    "        date = date.replace(i, \"\")\n",
    "    return date"
   ]
  },
  {
   "cell_type": "code",
   "execution_count": 27,
   "id": "d51ef559",
   "metadata": {},
   "outputs": [
    {
     "data": {
      "text/plain": [
       "'1974'"
      ]
     },
     "execution_count": 27,
     "metadata": {},
     "output_type": "execute_result"
    }
   ],
   "source": [
    "date = \"sc1974. 's'\"\n",
    "clean_date(date)"
   ]
  },
  {
   "cell_type": "code",
   "execution_count": 28,
   "id": "80fb8fce",
   "metadata": {},
   "outputs": [],
   "source": [
    "arts[\"Date\"] = arts[\"Date\"].apply(clean_date)"
   ]
  },
  {
   "cell_type": "code",
   "execution_count": 29,
   "id": "bc80a7b3",
   "metadata": {},
   "outputs": [
    {
     "data": {
      "text/plain": [
       "['1889', '1911']"
      ]
     },
     "execution_count": 29,
     "metadata": {},
     "output_type": "execute_result"
    }
   ],
   "source": [
    "new_date = \"1889-1911\"\n",
    "lst = new_date.split(\"-\")\n",
    "lst"
   ]
  },
  {
   "cell_type": "code",
   "execution_count": 30,
   "id": "8f1c26d2",
   "metadata": {},
   "outputs": [
    {
     "data": {
      "text/plain": [
       "1900"
      ]
     },
     "execution_count": 30,
     "metadata": {},
     "output_type": "execute_result"
    }
   ],
   "source": [
    "yr1 = int(lst[0])\n",
    "yr2 = int(lst[1])\n",
    "mean_yr = (yr1+yr2)/2\n",
    "round(mean_yr)"
   ]
  },
  {
   "cell_type": "code",
   "execution_count": 31,
   "id": "c82fb0ae",
   "metadata": {},
   "outputs": [],
   "source": [
    "def int_date(date):\n",
    "    if \"-\" in date:\n",
    "        lst = date.split(\"-\")\n",
    "        yr1 = int(lst[0])\n",
    "        yr2 = int(lst[1])\n",
    "        yr = round((yr1 + yr2)/2)\n",
    "        return yr\n",
    "    else:\n",
    "        return int(date)\n",
    "arts[\"Date\"] = arts[\"Date\"].apply(int_date).astype(int)\n",
    "    "
   ]
  },
  {
   "cell_type": "code",
   "execution_count": 34,
   "id": "e338c4ca",
   "metadata": {},
   "outputs": [
    {
     "name": "stdout",
     "output_type": "stream",
     "text": [
      "<class 'pandas.core.frame.DataFrame'>\n",
      "RangeIndex: 16725 entries, 0 to 16724\n",
      "Data columns (total 8 columns):\n",
      " #   Column       Non-Null Count  Dtype  \n",
      "---  ------       --------------  -----  \n",
      " 0   Title        16724 non-null  object \n",
      " 1   Artist       16725 non-null  object \n",
      " 2   Nationality  16725 non-null  object \n",
      " 3   BeginDate    15786 non-null  float64\n",
      " 4   EndDate      10474 non-null  float64\n",
      " 5   Gender       16725 non-null  object \n",
      " 6   Date         16725 non-null  int32  \n",
      " 7   Department   16725 non-null  object \n",
      "dtypes: float64(2), int32(1), object(5)\n",
      "memory usage: 980.1+ KB\n"
     ]
    }
   ],
   "source": [
    "arts.info()"
   ]
  },
  {
   "cell_type": "code",
   "execution_count": 35,
   "id": "ea5e8799",
   "metadata": {},
   "outputs": [],
   "source": [
    "arts.to_csv(\"cleaned_modern_arts.csv\")"
   ]
  },
  {
   "cell_type": "code",
   "execution_count": null,
   "id": "2c4b5ed0",
   "metadata": {},
   "outputs": [],
   "source": []
  }
 ],
 "metadata": {
  "kernelspec": {
   "display_name": "Python 3 (ipykernel)",
   "language": "python",
   "name": "python3"
  },
  "language_info": {
   "codemirror_mode": {
    "name": "ipython",
    "version": 3
   },
   "file_extension": ".py",
   "mimetype": "text/x-python",
   "name": "python",
   "nbconvert_exporter": "python",
   "pygments_lexer": "ipython3",
   "version": "3.9.13"
  }
 },
 "nbformat": 4,
 "nbformat_minor": 5
}
